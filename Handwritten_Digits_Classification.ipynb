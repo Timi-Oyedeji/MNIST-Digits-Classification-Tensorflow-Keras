{
 "cells": [
  {
   "attachments": {},
   "cell_type": "markdown",
   "metadata": {},
   "source": [
    "### Importing Libraries\n",
    "We import essential libraries for data manipulation, visualization, and model building:\n",
    "- `numpy`: For numerical computations.\n",
    "- `matplotlib.pyplot`: For visualizing data.\n",
    "- `tensorflow`: For building and training the machine learning model.\n",
    "Additionally, we suppress TensorFlow warnings to display only error messages for cleaner output.\n"
   ]
  },
  {
   "cell_type": "code",
   "execution_count": 13,
   "metadata": {},
   "outputs": [],
   "source": [
    "# importing libraries \n",
    "import numpy as np\n",
    "import matplotlib.pyplot as plt\n",
    "import tensorflow as tf\n",
    "from tensorflow.keras.datasets import mnist\n",
    "\n",
    "# suppress warnings - only error messages will be shown\n",
    "tf.get_logger().setLevel('ERROR')"
   ]
  },
  {
   "attachments": {},
   "cell_type": "markdown",
   "metadata": {},
   "source": [
    "### Loading and Normalizing the MNIST Dataset\n",
    "The MNIST dataset, containing images of handwritten digits (0-9), is loaded and split into training and testing sets.\n",
    "We normalize pixel values to the range [0, 1] for better model performance. This ensures that the input values are standardized and suitable for neural network training.\n"
   ]
  },
  {
   "cell_type": "code",
   "execution_count": 15,
   "metadata": {},
   "outputs": [],
   "source": [
    "# load MNIST dataset\n",
    "# more info - https://keras.io/api/datasets/mnist/#load_data-function\n",
    "(train_data, train_labels), (test_data, test_labels) = mnist.load_data()\n",
    "\n",
    "# normalize data to range [0, 1]\n",
    "# grayscale pixel values range from 0 to 255, where 0 is black, and 255 is white.\n",
    "train_data = train_data / 255.0\n",
    "test_data = test_data / 255.0"
   ]
  },
  {
   "attachments": {},
   "cell_type": "markdown",
   "metadata": {},
   "source": [
    "### Flattening Images and Reducing Dataset Size\n",
    "- The 28x28 images are flattened into 1D arrays of 784 pixels for compatibility with the model.\n",
    "- For quicker training during prototyping, we limit the training dataset size to 10,000 samples. This reduces training time while retaining enough data for learning.\n"
   ]
  },
  {
   "cell_type": "code",
   "execution_count": 16,
   "metadata": {},
   "outputs": [],
   "source": [
    "# flatten 28x28 images to 1D arrays of 784 pixels\n",
    "train_data = train_data.reshape(train_data.shape[0], -1)\n",
    "test_data = test_data.reshape(test_data.shape[0], -1)\n",
    "\n",
    "# restrict training dataset size for quicker training\n",
    "max_samples = 10000 # limit on number of training dataset \n",
    "train_data = train_data[:max_samples] # select all rows starting from index 0 up to, but not including, max_examples\n",
    "train_labels = train_labels[:max_samples] # similar as above"
   ]
  },
  {
   "attachments": {},
   "cell_type": "markdown",
   "metadata": {},
   "source": [
    "### Visualizing a Sample Image\n",
    "A function is defined to display an image from the test dataset along with its label. This allows us to visually inspect the data and verify the labels.\n",
    "An example is provided to display the first image in the test dataset.\n"
   ]
  },
  {
   "cell_type": "code",
   "execution_count": 17,
   "metadata": {},
   "outputs": [
    {
     "data": {
      "image/png": "[encoded data removed]",
      "text/plain": [
       "<Figure size 432x288 with 1 Axes>"
      ]
     },
     "metadata": {
      "needs_background": "light"
     },
     "output_type": "display_data"
    }
   ],
   "source": [
    "# display a sample image\n",
    "def display(i):\n",
    "    img = test_data[i].reshape((28, 28)) \n",
    "    plt.title(f\"Label: {test_labels[i]}\") \n",
    "    plt.imshow(img, cmap='gray') \n",
    "\n",
    "# example\n",
    "display(0)"
   ]
  },
  {
   "attachments": {},
   "cell_type": "markdown",
   "metadata": {},
   "source": [
    "### Building the Model\n",
    "We construct a simple linear classifier using TensorFlow's Keras API:\n",
    "- **Input Layer:** Accepts flattened images as input (784 pixels).\n",
    "- **Hidden Layer:** Adds 32 neurons with ReLU activation to learn intermediate features.\n",
    "- **Output Layer:** Outputs probabilities for 10 classes (digits 0-9) using a softmax activation function.\n",
    "The model is compiled with the Adam optimizer, sparse categorical crossentropy as the loss function, and accuracy as the evaluation metric."
   ]
  },
  {
   "cell_type": "code",
   "execution_count": 18,
   "metadata": {},
   "outputs": [],
   "source": [
    "# build a simple linear classifier using Keras\n",
    "# set the random seed\n",
    "tf.random.set_seed(50)\n",
    "\n",
    "# create the model\n",
    "model = tf.keras.Sequential()\n",
    "\n",
    "# add Input layer\n",
    "model.add(tf.keras.layers.InputLayer(input_shape=[784]))\n",
    "\n",
    "# add Hidden layer\n",
    "model.add(tf.keras.layers.Dense(32, activation='relu'))\n",
    "\n",
    "# add Output layer\n",
    "model.add(tf.keras.layers.Dense(10, activation='softmax'))\n",
    "\n",
    "# Compile the model\n",
    "model.compile(optimizer='adam',\n",
    "              loss='sparse_categorical_crossentropy',\n",
    "              metrics=['accuracy'])"
   ]
  },
  {
   "attachments": {},
   "cell_type": "markdown",
   "metadata": {},
   "source": [
    "### Training and Evaluating the Model\n",
    "- The model is trained on the training dataset for 20 epochs with a batch size of 100 samples.\n",
    "- After training, the model is evaluated on the test dataset to measure its accuracy. The accuracy is printed to the console.\n"
   ]
  },
  {
   "cell_type": "code",
   "execution_count": 19,
   "metadata": {},
   "outputs": [
    {
     "name": "stdout",
     "output_type": "stream",
     "text": [
      "Epoch 1/20\n",
      "\u001b[1m100/100\u001b[0m \u001b[32m━━━━━━━━━━━━━━━━━━━━\u001b[0m\u001b[37m\u001b[0m \u001b[1m0s\u001b[0m 1ms/step - accuracy: 0.4826 - loss: 1.6468\n",
      "Epoch 2/20\n",
      "\u001b[1m100/100\u001b[0m \u001b[32m━━━━━━━━━━━━━━━━━━━━\u001b[0m\u001b[37m\u001b[0m \u001b[1m0s\u001b[0m 1ms/step - accuracy: 0.8777 - loss: 0.4702\n",
      "Epoch 3/20\n",
      "\u001b[1m100/100\u001b[0m \u001b[32m━━━━━━━━━━━━━━━━━━━━\u001b[0m\u001b[37m\u001b[0m \u001b[1m0s\u001b[0m 1ms/step - accuracy: 0.9072 - loss: 0.3439\n",
      "Epoch 4/20\n",
      "\u001b[1m100/100\u001b[0m \u001b[32m━━━━━━━━━━━━━━━━━━━━\u001b[0m\u001b[37m\u001b[0m \u001b[1m0s\u001b[0m 1ms/step - accuracy: 0.9220 - loss: 0.2913\n",
      "Epoch 5/20\n",
      "\u001b[1m100/100\u001b[0m \u001b[32m━━━━━━━━━━━━━━━━━━━━\u001b[0m\u001b[37m\u001b[0m \u001b[1m0s\u001b[0m 1ms/step - accuracy: 0.9289 - loss: 0.2590\n",
      "Epoch 6/20\n",
      "\u001b[1m100/100\u001b[0m \u001b[32m━━━━━━━━━━━━━━━━━━━━\u001b[0m\u001b[37m\u001b[0m \u001b[1m0s\u001b[0m 1ms/step - accuracy: 0.9361 - loss: 0.2354\n",
      "Epoch 7/20\n",
      "\u001b[1m100/100\u001b[0m \u001b[32m━━━━━━━━━━━━━━━━━━━━\u001b[0m\u001b[37m\u001b[0m \u001b[1m0s\u001b[0m 1ms/step - accuracy: 0.9397 - loss: 0.2163\n",
      "Epoch 8/20\n",
      "\u001b[1m100/100\u001b[0m \u001b[32m━━━━━━━━━━━━━━━━━━━━\u001b[0m\u001b[37m\u001b[0m \u001b[1m0s\u001b[0m 1ms/step - accuracy: 0.9439 - loss: 0.2003\n",
      "Epoch 9/20\n",
      "\u001b[1m100/100\u001b[0m \u001b[32m━━━━━━━━━━━━━━━━━━━━\u001b[0m\u001b[37m\u001b[0m \u001b[1m0s\u001b[0m 1ms/step - accuracy: 0.9477 - loss: 0.1863  \n",
      "Epoch 10/20\n",
      "\u001b[1m100/100\u001b[0m \u001b[32m━━━━━━━━━━━━━━━━━━━━\u001b[0m\u001b[37m\u001b[0m \u001b[1m0s\u001b[0m 1ms/step - accuracy: 0.9511 - loss: 0.1740\n",
      "Epoch 11/20\n",
      "\u001b[1m100/100\u001b[0m \u001b[32m━━━━━━━━━━━━━━━━━━━━\u001b[0m\u001b[37m\u001b[0m \u001b[1m0s\u001b[0m 1ms/step - accuracy: 0.9547 - loss: 0.1631\n",
      "Epoch 12/20\n",
      "\u001b[1m100/100\u001b[0m \u001b[32m━━━━━━━━━━━━━━━━━━━━\u001b[0m\u001b[37m\u001b[0m \u001b[1m0s\u001b[0m 1ms/step - accuracy: 0.9570 - loss: 0.1533\n",
      "Epoch 13/20\n",
      "\u001b[1m100/100\u001b[0m \u001b[32m━━━━━━━━━━━━━━━━━━━━\u001b[0m\u001b[37m\u001b[0m \u001b[1m0s\u001b[0m 1ms/step - accuracy: 0.9593 - loss: 0.1443\n",
      "Epoch 14/20\n",
      "\u001b[1m100/100\u001b[0m \u001b[32m━━━━━━━━━━━━━━━━━━━━\u001b[0m\u001b[37m\u001b[0m \u001b[1m0s\u001b[0m 1ms/step - accuracy: 0.9624 - loss: 0.1362\n",
      "Epoch 15/20\n",
      "\u001b[1m100/100\u001b[0m \u001b[32m━━━━━━━━━━━━━━━━━━━━\u001b[0m\u001b[37m\u001b[0m \u001b[1m0s\u001b[0m 1ms/step - accuracy: 0.9647 - loss: 0.1285\n",
      "Epoch 16/20\n",
      "\u001b[1m100/100\u001b[0m \u001b[32m━━━━━━━━━━━━━━━━━━━━\u001b[0m\u001b[37m\u001b[0m \u001b[1m0s\u001b[0m 1ms/step - accuracy: 0.9680 - loss: 0.1216\n",
      "Epoch 17/20\n",
      "\u001b[1m100/100\u001b[0m \u001b[32m━━━━━━━━━━━━━━━━━━━━\u001b[0m\u001b[37m\u001b[0m \u001b[1m0s\u001b[0m 1ms/step - accuracy: 0.9698 - loss: 0.1151\n",
      "Epoch 18/20\n",
      "\u001b[1m100/100\u001b[0m \u001b[32m━━━━━━━━━━━━━━━━━━━━\u001b[0m\u001b[37m\u001b[0m \u001b[1m0s\u001b[0m 1ms/step - accuracy: 0.9720 - loss: 0.1092\n",
      "Epoch 19/20\n",
      "\u001b[1m100/100\u001b[0m \u001b[32m━━━━━━━━━━━━━━━━━━━━\u001b[0m\u001b[37m\u001b[0m \u001b[1m0s\u001b[0m 1ms/step - accuracy: 0.9734 - loss: 0.1037  \n",
      "Epoch 20/20\n",
      "\u001b[1m100/100\u001b[0m \u001b[32m━━━━━━━━━━━━━━━━━━━━\u001b[0m\u001b[37m\u001b[0m \u001b[1m0s\u001b[0m 1ms/step - accuracy: 0.9746 - loss: 0.0985\n",
      "Accuracy: 0.94\n"
     ]
    }
   ],
   "source": [
    "# train the model\n",
    "history = model.fit(train_data, train_labels, batch_size=100, epochs=20, verbose=1)\n",
    "\n",
    "# evaluate model\n",
    "loss, accuracy = model.evaluate(test_data, test_labels, verbose=0)\n",
    "print(f\"Accuracy: {accuracy:.2f}\")"
   ]
  },
  {
   "attachments": {},
   "cell_type": "markdown",
   "metadata": {},
   "source": [
    "### Making Predictions\n",
    "The model predicts the class of a single sample from the test dataset:\n",
    "1. A single test sample is selected.\n",
    "2. The model generates predicted probabilities for each class.\n",
    "3. The class with the highest probability is identified as the predicted class.\n",
    "4. If the prediction matches the true label, the corresponding image is displayed for visual confirmation.\n"
   ]
  },
  {
   "cell_type": "code",
   "execution_count": 20,
   "metadata": {},
   "outputs": [
    {
     "name": "stdout",
     "output_type": "stream",
     "text": [
      "\u001b[1m1/1\u001b[0m \u001b[32m━━━━━━━━━━━━━━━━━━━━\u001b[0m\u001b[37m\u001b[0m \u001b[1m0s\u001b[0m 30ms/step\n",
      "Prediction: 7, Label: 7\n"
     ]
    },
    {
     "data": {
      "image/png": "[encoded data removed]",
      "text/plain": [
       "<Figure size 432x288 with 1 Axes>"
      ]
     },
     "metadata": {
      "needs_background": "light"
     },
     "output_type": "display_data"
    }
   ],
   "source": [
    "# predict on a single test sample\n",
    "sample_index = 0 # index of selected sample\n",
    "\n",
    "# select a single test sample\n",
    "test_sample = test_data[sample_index:sample_index+1]\n",
    "\n",
    "# make a prediction\n",
    "predicted_probabilities = model.predict(test_sample)\n",
    "\n",
    "# find the class with the highest probability\n",
    "predicted_class = np.argmax(predicted_probabilities, axis=-1)\n",
    "\n",
    "print(f\"Prediction: {predicted_class[0]}, Label: {test_labels[sample_index]}\")\n",
    "\n",
    "if predicted_class[0] == test_labels[sample_index]:\n",
    "    display(sample_index)"
   ]
  },
  {
   "attachments": {},
   "cell_type": "markdown",
   "metadata": {},
   "source": [
    "### Visualizing Training Loss\n",
    "The training loss is plotted over the epochs to show how the model's performance improves during training. This helps in understanding whether the model is learning effectively.\n"
   ]
  },
  {
   "cell_type": "code",
   "execution_count": 21,
   "metadata": {},
   "outputs": [
    {
     "data": {
      "image/png": "[encoded data removed]",
      "text/plain": [
       "<Figure size 432x288 with 1 Axes>"
      ]
     },
     "metadata": {
      "needs_background": "light"
     },
     "output_type": "display_data"
    }
   ],
   "source": [
    "# plot the training loss over epochs\n",
    "plt.plot(history.history['loss'])\n",
    "plt.title('Model Loss over Epochs')\n",
    "plt.xlabel('Epochs')\n",
    "plt.ylabel('Loss')\n",
    "plt.show()"
   ]
  }
 ],
 "metadata": {
  "kernelspec": {
   "display_name": "base",
   "language": "python",
   "name": "python3"
  },
  "language_info": {
   "codemirror_mode": {
    "name": "ipython",
    "version": 3
   },
   "file_extension": ".py",
   "mimetype": "text/x-python",
   "name": "python",
   "nbconvert_exporter": "python",
   "pygments_lexer": "ipython3",
   "version": "3.9.12"
  },
  "orig_nbformat": 4
 },
 "nbformat": 4,
 "nbformat_minor": 2
}
